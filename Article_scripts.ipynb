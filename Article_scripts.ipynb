{
 "cells": [
  {
   "cell_type": "markdown",
   "metadata": {
    "slideshow": {
     "slide_type": "slide"
    }
   },
   "source": [
    "# Get rich or die… coding."
   ]
  },
  {
   "cell_type": "markdown",
   "metadata": {
    "slideshow": {
     "slide_type": "fragment"
    }
   },
   "source": [
    "People want to become rich, to secure their old age, live comfort life and travel a lot. Or to make fortune and save the world. Whatever the reason is to become rich, a person has to do what knows how to do it best. I this post, I will describe my thoughts on how to create a simple machine learning model on stock price prediction in Python.\n",
    "\n",
    "DISCLAIMER / LEGAL NOTICE\n",
    "The data in this article is for your information only. It does not constitute investment advice."
   ]
  },
  {
   "cell_type": "markdown",
   "metadata": {
    "slideshow": {
     "slide_type": "slide"
    }
   },
   "source": [
    "### Post outline\n",
    "- Defining the scope of our task\n",
    "- What stock to choose?\n",
    "- What to include in model as features?\n",
    "- What to consider before creating predicting model in Python?\n",
    "- Summary\n"
   ]
  },
  {
   "cell_type": "markdown",
   "metadata": {
    "slideshow": {
     "slide_type": "slide"
    }
   },
   "source": [
    "### Defining the scope of our task\n",
    "\n",
    "The task is to predict a next trading day price of a certain stock. Since price of a stock is continuous variable, regression analysis will be applied. The stock price data will be retrieved from **pandas_datareader** package.\n"
   ]
  },
  {
   "cell_type": "code",
   "execution_count": 137,
   "metadata": {
    "slideshow": {
     "slide_type": "fragment"
    }
   },
   "outputs": [],
   "source": [
    "from pandas_datareader import data\n",
    "import matplotlib.pyplot as plt\n",
    "import pandas as pd"
   ]
  },
  {
   "cell_type": "markdown",
   "metadata": {
    "slideshow": {
     "slide_type": "slide"
    }
   },
   "source": [
    "### Which stock to choose?\n",
    "When I asked this question myself, I did not think a lot to answer. A stock has to be liquid that is first requirement.\n",
    "\n",
    "Definition from Investopedia:\n",
    "\n",
    "*A stock's liquidity generally refers to how rapidly shares of a stock can be bought or sold without substantially impacting the stock price. Stocks with low liquidity may be difficult to sell and may cause you to take a bigger loss if you cannot sell the shares when you want to.*\n",
    "\n",
    "By other words, a liquid stock easy to buy, easy to sell and supposedly easy to predict.\n",
    "\n",
    "*Liquidity can be calculated as ratio of volume traded multiplied by the closing price divided by the price range from high to low, for the whole trading day, on a logarithmic scale (from https://www.cfainstitute.org).*\n",
    "\n",
    "To roughly estimate liquidity, one just needs to multiply stock volume by stock closed price at the last trading day, the higher number, the more liquid stock is. Note: it is supposed there were no abnormal volume increase last trading day. One can ask: There are many liquid stocks at the exchange, which should I choose? The way I did, just picked the most liquid in its sector (Pfizer, ticker PFE, sector - Healthcare).\n"
   ]
  },
  {
   "cell_type": "markdown",
   "metadata": {
    "slideshow": {
     "slide_type": "slide"
    }
   },
   "source": [
    "### What to include in model as features?\n",
    "The more relevant information the better. I decided to include gold price and S&P500 index, in some cases they could act as leading indicators… I hope. Also adding day of the week would be beneficial, since there happens large price change from Friday to Monday."
   ]
  },
  {
   "cell_type": "code",
   "execution_count": 138,
   "metadata": {
    "ExecuteTime": {
     "end_time": "2020-04-29T13:07:08.793530Z",
     "start_time": "2020-04-29T13:07:08.789414Z"
    },
    "slideshow": {
     "slide_type": "skip"
    }
   },
   "outputs": [],
   "source": [
    "pfe = data.DataReader('PFE', start='2018', end='2022',\n",
    "                       data_source='yahoo')"
   ]
  },
  {
   "cell_type": "code",
   "execution_count": 139,
   "metadata": {
    "slideshow": {
     "slide_type": "skip"
    }
   },
   "outputs": [],
   "source": [
    "sp500 = data.DataReader('^GSPC', start='2018', end='2022',\n",
    "                       data_source='yahoo')"
   ]
  },
  {
   "cell_type": "code",
   "execution_count": 140,
   "metadata": {
    "slideshow": {
     "slide_type": "skip"
    }
   },
   "outputs": [],
   "source": [
    "gold = data.DataReader('GOLD', start='2018', end='2022',\n",
    "                       data_source='yahoo')"
   ]
  },
  {
   "cell_type": "code",
   "execution_count": 141,
   "metadata": {
    "slideshow": {
     "slide_type": "skip"
    }
   },
   "outputs": [
    {
     "data": {
      "text/html": [
       "<div>\n",
       "<style scoped>\n",
       "    .dataframe tbody tr th:only-of-type {\n",
       "        vertical-align: middle;\n",
       "    }\n",
       "\n",
       "    .dataframe tbody tr th {\n",
       "        vertical-align: top;\n",
       "    }\n",
       "\n",
       "    .dataframe thead th {\n",
       "        text-align: right;\n",
       "    }\n",
       "</style>\n",
       "<table border=\"1\" class=\"dataframe\">\n",
       "  <thead>\n",
       "    <tr style=\"text-align: right;\">\n",
       "      <th></th>\n",
       "      <th>High</th>\n",
       "      <th>Low</th>\n",
       "      <th>Open</th>\n",
       "      <th>Close</th>\n",
       "      <th>Volume</th>\n",
       "      <th>Adj Close</th>\n",
       "    </tr>\n",
       "    <tr>\n",
       "      <th>Date</th>\n",
       "      <th></th>\n",
       "      <th></th>\n",
       "      <th></th>\n",
       "      <th></th>\n",
       "      <th></th>\n",
       "      <th></th>\n",
       "    </tr>\n",
       "  </thead>\n",
       "  <tbody>\n",
       "    <tr>\n",
       "      <th>2018-01-02</th>\n",
       "      <td>15.24</td>\n",
       "      <td>14.61</td>\n",
       "      <td>14.65</td>\n",
       "      <td>15.20</td>\n",
       "      <td>15223200.0</td>\n",
       "      <td>14.588737</td>\n",
       "    </tr>\n",
       "    <tr>\n",
       "      <th>2018-01-03</th>\n",
       "      <td>15.27</td>\n",
       "      <td>14.74</td>\n",
       "      <td>15.24</td>\n",
       "      <td>15.00</td>\n",
       "      <td>15155900.0</td>\n",
       "      <td>14.396777</td>\n",
       "    </tr>\n",
       "    <tr>\n",
       "      <th>2018-01-04</th>\n",
       "      <td>15.05</td>\n",
       "      <td>14.79</td>\n",
       "      <td>15.03</td>\n",
       "      <td>15.03</td>\n",
       "      <td>8936100.0</td>\n",
       "      <td>14.425571</td>\n",
       "    </tr>\n",
       "    <tr>\n",
       "      <th>2018-01-05</th>\n",
       "      <td>15.00</td>\n",
       "      <td>14.87</td>\n",
       "      <td>14.99</td>\n",
       "      <td>14.95</td>\n",
       "      <td>6515600.0</td>\n",
       "      <td>14.348790</td>\n",
       "    </tr>\n",
       "    <tr>\n",
       "      <th>2018-01-08</th>\n",
       "      <td>14.95</td>\n",
       "      <td>14.64</td>\n",
       "      <td>14.88</td>\n",
       "      <td>14.74</td>\n",
       "      <td>8362600.0</td>\n",
       "      <td>14.147237</td>\n",
       "    </tr>\n",
       "  </tbody>\n",
       "</table>\n",
       "</div>"
      ],
      "text/plain": [
       "             High    Low   Open  Close      Volume  Adj Close\n",
       "Date                                                         \n",
       "2018-01-02  15.24  14.61  14.65  15.20  15223200.0  14.588737\n",
       "2018-01-03  15.27  14.74  15.24  15.00  15155900.0  14.396777\n",
       "2018-01-04  15.05  14.79  15.03  15.03   8936100.0  14.425571\n",
       "2018-01-05  15.00  14.87  14.99  14.95   6515600.0  14.348790\n",
       "2018-01-08  14.95  14.64  14.88  14.74   8362600.0  14.147237"
      ]
     },
     "execution_count": 141,
     "metadata": {},
     "output_type": "execute_result"
    }
   ],
   "source": [
    "gold.head()"
   ]
  },
  {
   "cell_type": "markdown",
   "metadata": {
    "slideshow": {
     "slide_type": "slide"
    }
   },
   "source": [
    "### What to consider before creating predicting model in Python?\n",
    "The price is time series which is not stationary. As I was taught, predictive model has to be based on stationary time series. The stationarity definition by Wikipedia:\n",
    "\n",
    "*In mathematics and statistics, a stationary process (or a strict/strictly stationary process or strong/strongly stationary process) is a stochastic process whose unconditional joint probability distribution does not change when shifted in time. Consequently, parameters such as mean and variance also do not change over time.*\n",
    "\n",
    "Thus, we have to convert the time series to stationary. Non-stationary time series consists of the following components: level, trend, seasonality, noise. To simplify the task we will decompose trend only from a stock price and use Augmented Dickey-Fuller test to verify stationarity.\n"
   ]
  },
  {
   "cell_type": "code",
   "execution_count": 142,
   "metadata": {
    "slideshow": {
     "slide_type": "skip"
    }
   },
   "outputs": [],
   "source": [
    "plt.style.use('fivethirtyeight')"
   ]
  },
  {
   "cell_type": "markdown",
   "metadata": {
    "slideshow": {
     "slide_type": "slide"
    }
   },
   "source": [
    "Let's have a look at the graph"
   ]
  },
  {
   "cell_type": "code",
   "execution_count": 150,
   "metadata": {
    "ExecuteTime": {
     "end_time": "2020-04-29T13:07:09.408017Z",
     "start_time": "2020-04-29T13:07:09.204629Z"
    },
    "slideshow": {
     "slide_type": "slide"
    }
   },
   "outputs": [
    {
     "data": {
      "image/png": "[encoded data removed]",
      "text/plain": [
       "<Figure size 1440x720 with 2 Axes>"
      ]
     },
     "metadata": {},
     "output_type": "display_data"
    }
   ],
   "source": [
    "#plt.rcParams['figure.figsize'] = (20, 10)\n",
    "fig, ax1 = plt.subplots(figsize=(20,10))\n",
    "ax1.set_ylim([5, 60])\n",
    "ax1.plot(pfe['Adj Close'], color='Red', label = 'PFE')\n",
    "ax1.plot(gold['Adj Close'], color='Green', label='Gold')\n",
    "ax2 = ax1.twinx()\n",
    "ax2.plot(sp500['Adj Close'], label = 'SP500')\n",
    "h1, l1 = ax1.get_legend_handles_labels()\n",
    "h2, l2 = ax2.get_legend_handles_labels()\n",
    "ax1.legend(h1+h2, l1+l2, loc=2)\n",
    "plt.show()"
   ]
  },
  {
   "cell_type": "code",
   "execution_count": 99,
   "metadata": {
    "slideshow": {
     "slide_type": "skip"
    }
   },
   "outputs": [],
   "source": [
    "from statsmodels.tsa.stattools import adfuller"
   ]
  },
  {
   "cell_type": "markdown",
   "metadata": {
    "slideshow": {
     "slide_type": "slide"
    }
   },
   "source": [
    "Defining Augmented Dickey-Fuller test function"
   ]
  },
  {
   "cell_type": "code",
   "execution_count": 100,
   "metadata": {
    "ExecuteTime": {
     "end_time": "2020-04-29T13:07:11.022255Z",
     "start_time": "2020-04-29T13:07:11.010743Z"
    },
    "slideshow": {
     "slide_type": "fragment"
    }
   },
   "outputs": [],
   "source": [
    "def ADF_Stationarity_Test(timeseries, significance_level):\n",
    "    result = adfuller(timeseries, regression='ctt')\n",
    "    print(f'p-value: {result[1]} and significance level: {significance_level}')\n",
    "    if result[1] < significance_level:\n",
    "        print ('Timeseries is stationary')\n",
    "    else:\n",
    "        print ('Timeseries is NOT stationary')"
   ]
  },
  {
   "cell_type": "code",
   "execution_count": 101,
   "metadata": {
    "ExecuteTime": {
     "end_time": "2020-04-29T13:07:11.132517Z",
     "start_time": "2020-04-29T13:07:11.096792Z"
    },
    "scrolled": true,
    "slideshow": {
     "slide_type": "slide"
    }
   },
   "outputs": [
    {
     "name": "stdout",
     "output_type": "stream",
     "text": [
      "p-value: 0.414170479420067 and significance level: 0.05\n",
      "Timeseries is NOT stationary\n"
     ]
    }
   ],
   "source": [
    "ADF_Stationarity_Test (pfe['Adj Close'], 0.05)"
   ]
  },
  {
   "cell_type": "markdown",
   "metadata": {
    "slideshow": {
     "slide_type": "fragment"
    }
   },
   "source": [
    "As we can see from the line above the price is NOT stationary timeseries."
   ]
  },
  {
   "cell_type": "markdown",
   "metadata": {
    "slideshow": {
     "slide_type": "slide"
    }
   },
   "source": [
    "The function below adds moving averages to the dataframe with different time frames."
   ]
  },
  {
   "cell_type": "code",
   "execution_count": 102,
   "metadata": {
    "slideshow": {
     "slide_type": "fragment"
    }
   },
   "outputs": [],
   "source": [
    "def adding_MAs(df, col_label, MAs=[5, 10, 15, 20, 30]):\n",
    "    for period in MAs:\n",
    "        df['MA'+ str(period)]=df[col_label].rolling(period).mean()\n",
    "    df[col_label + '-MA30'] = df[col_label] - df['MA30'] #This will become our target\n",
    "    df.dropna(inplace=True)\n",
    "    return df\n",
    "    "
   ]
  },
  {
   "cell_type": "code",
   "execution_count": 103,
   "metadata": {
    "slideshow": {
     "slide_type": "skip"
    }
   },
   "outputs": [],
   "source": [
    "def renaming_cols(df, prefix):\n",
    "    cols = df.columns.tolist()\n",
    "    cols_new = {}\n",
    "    for item in cols:\n",
    "        cols_new[item]=prefix+item\n",
    "    df.rename(columns =cols_new, inplace=True)\n",
    "    "
   ]
  },
  {
   "cell_type": "code",
   "execution_count": 104,
   "metadata": {
    "slideshow": {
     "slide_type": "skip"
    }
   },
   "outputs": [],
   "source": [
    "pfe = adding_MAs(pfe, 'Adj Close')"
   ]
  },
  {
   "cell_type": "code",
   "execution_count": 105,
   "metadata": {
    "slideshow": {
     "slide_type": "skip"
    }
   },
   "outputs": [],
   "source": [
    "gold = adding_MAs(gold, 'Adj Close')"
   ]
  },
  {
   "cell_type": "code",
   "execution_count": 106,
   "metadata": {
    "slideshow": {
     "slide_type": "skip"
    }
   },
   "outputs": [],
   "source": [
    "sp500 = adding_MAs(sp500, 'Adj Close')"
   ]
  },
  {
   "cell_type": "code",
   "execution_count": 107,
   "metadata": {
    "slideshow": {
     "slide_type": "skip"
    }
   },
   "outputs": [],
   "source": [
    "pfe['Volume by Adj Close']=pfe['Volume'] * pfe['Adj Close']"
   ]
  },
  {
   "cell_type": "code",
   "execution_count": 108,
   "metadata": {
    "slideshow": {
     "slide_type": "skip"
    }
   },
   "outputs": [],
   "source": [
    "pfe.drop(columns=['High', 'Low', 'Open', 'Volume', 'Close', 'Adj Close'], inplace=True)"
   ]
  },
  {
   "cell_type": "code",
   "execution_count": 109,
   "metadata": {
    "slideshow": {
     "slide_type": "skip"
    }
   },
   "outputs": [],
   "source": [
    "gold.drop(columns=['High', 'Low', 'Open', 'Volume', 'Close', 'Adj Close'], inplace=True)"
   ]
  },
  {
   "cell_type": "code",
   "execution_count": 110,
   "metadata": {
    "slideshow": {
     "slide_type": "skip"
    }
   },
   "outputs": [],
   "source": [
    "sp500.drop(columns=['High', 'Low', 'Open', 'Volume', 'Close', 'Adj Close'], inplace=True)"
   ]
  },
  {
   "cell_type": "code",
   "execution_count": 111,
   "metadata": {
    "slideshow": {
     "slide_type": "skip"
    }
   },
   "outputs": [],
   "source": [
    "renaming_cols(pfe, 'pfe_')"
   ]
  },
  {
   "cell_type": "code",
   "execution_count": 112,
   "metadata": {
    "slideshow": {
     "slide_type": "skip"
    }
   },
   "outputs": [],
   "source": [
    "renaming_cols(gold, 'gold_')"
   ]
  },
  {
   "cell_type": "code",
   "execution_count": 113,
   "metadata": {
    "slideshow": {
     "slide_type": "skip"
    }
   },
   "outputs": [],
   "source": [
    "renaming_cols(sp500, 'sp500_')"
   ]
  },
  {
   "cell_type": "code",
   "execution_count": 114,
   "metadata": {
    "slideshow": {
     "slide_type": "slide"
    }
   },
   "outputs": [
    {
     "name": "stdout",
     "output_type": "stream",
     "text": [
      "p-value: 1.7556373299318893e-06 and significance level: 0.05\n",
      "Timeseries is stationary\n"
     ]
    }
   ],
   "source": [
    "ADF_Stationarity_Test (pfe['pfe_Adj Close-MA30'], 0.05)"
   ]
  },
  {
   "cell_type": "markdown",
   "metadata": {
    "slideshow": {
     "slide_type": "fragment"
    }
   },
   "source": [
    "From the line above we see that 'pfe_Adj Close-MA30' field is stationary timeseries and it will become our target. To define the price one just needs to add last MA30 to the predicted value."
   ]
  },
  {
   "cell_type": "markdown",
   "metadata": {
    "slideshow": {
     "slide_type": "slide"
    }
   },
   "source": [
    "Stationary target variable shown on the graph below. By try and error I identified that \"Adj Close-MA30\" gives best r2 score."
   ]
  },
  {
   "cell_type": "code",
   "execution_count": 115,
   "metadata": {
    "slideshow": {
     "slide_type": "fragment"
    }
   },
   "outputs": [
    {
     "data": {
      "image/png": "[encoded data removed]",
      "text/plain": [
       "<Figure size 1440x720 with 1 Axes>"
      ]
     },
     "metadata": {},
     "output_type": "display_data"
    }
   ],
   "source": [
    "plt.rcParams[\"figure.figsize\"] = (20,10)\n",
    "plt.plot(pfe['pfe_Adj Close-MA30'])\n",
    "plt.show()"
   ]
  },
  {
   "cell_type": "markdown",
   "metadata": {
    "slideshow": {
     "slide_type": "slide"
    }
   },
   "source": [
    "Now time to merge all three dataframes into one"
   ]
  },
  {
   "cell_type": "code",
   "execution_count": 116,
   "metadata": {
    "ExecuteTime": {
     "end_time": "2020-04-29T13:07:12.324715Z",
     "start_time": "2020-04-29T13:07:12.093597Z"
    },
    "slideshow": {
     "slide_type": "skip"
    }
   },
   "outputs": [],
   "source": [
    "final_df = pfe.merge(gold, on=['Date'])"
   ]
  },
  {
   "cell_type": "code",
   "execution_count": 117,
   "metadata": {
    "slideshow": {
     "slide_type": "skip"
    }
   },
   "outputs": [],
   "source": [
    "final_df = final_df.merge(sp500, on=['Date'])"
   ]
  },
  {
   "cell_type": "markdown",
   "metadata": {
    "slideshow": {
     "slide_type": "fragment"
    }
   },
   "source": [
    "Since we predicting stock price on next trading day we have to shift our target variable by one row."
   ]
  },
  {
   "cell_type": "code",
   "execution_count": 118,
   "metadata": {
    "slideshow": {
     "slide_type": "fragment"
    }
   },
   "outputs": [],
   "source": [
    "final_df ['pfe_Adj Close-MA30'] = final_df ['pfe_Adj Close-MA30'].shift(-1)"
   ]
  },
  {
   "cell_type": "code",
   "execution_count": 119,
   "metadata": {
    "slideshow": {
     "slide_type": "skip"
    }
   },
   "outputs": [
    {
     "data": {
      "text/html": [
       "<div>\n",
       "<style scoped>\n",
       "    .dataframe tbody tr th:only-of-type {\n",
       "        vertical-align: middle;\n",
       "    }\n",
       "\n",
       "    .dataframe tbody tr th {\n",
       "        vertical-align: top;\n",
       "    }\n",
       "\n",
       "    .dataframe thead th {\n",
       "        text-align: right;\n",
       "    }\n",
       "</style>\n",
       "<table border=\"1\" class=\"dataframe\">\n",
       "  <thead>\n",
       "    <tr style=\"text-align: right;\">\n",
       "      <th></th>\n",
       "      <th>pfe_MA5</th>\n",
       "      <th>pfe_MA10</th>\n",
       "      <th>pfe_MA15</th>\n",
       "      <th>pfe_MA20</th>\n",
       "      <th>pfe_MA30</th>\n",
       "      <th>pfe_Adj Close-MA30</th>\n",
       "      <th>pfe_Volume by Adj Close</th>\n",
       "      <th>gold_MA5</th>\n",
       "      <th>gold_MA10</th>\n",
       "      <th>gold_MA15</th>\n",
       "      <th>gold_MA20</th>\n",
       "      <th>gold_MA30</th>\n",
       "      <th>gold_Adj Close-MA30</th>\n",
       "      <th>sp500_MA5</th>\n",
       "      <th>sp500_MA10</th>\n",
       "      <th>sp500_MA15</th>\n",
       "      <th>sp500_MA20</th>\n",
       "      <th>sp500_MA30</th>\n",
       "      <th>sp500_Adj Close-MA30</th>\n",
       "    </tr>\n",
       "    <tr>\n",
       "      <th>Date</th>\n",
       "      <th></th>\n",
       "      <th></th>\n",
       "      <th></th>\n",
       "      <th></th>\n",
       "      <th></th>\n",
       "      <th></th>\n",
       "      <th></th>\n",
       "      <th></th>\n",
       "      <th></th>\n",
       "      <th></th>\n",
       "      <th></th>\n",
       "      <th></th>\n",
       "      <th></th>\n",
       "      <th></th>\n",
       "      <th></th>\n",
       "      <th></th>\n",
       "      <th></th>\n",
       "      <th></th>\n",
       "      <th></th>\n",
       "    </tr>\n",
       "  </thead>\n",
       "  <tbody>\n",
       "    <tr>\n",
       "      <th>2021-03-04</th>\n",
       "      <td>33.856000</td>\n",
       "      <td>33.946</td>\n",
       "      <td>34.183333</td>\n",
       "      <td>34.3545</td>\n",
       "      <td>34.878712</td>\n",
       "      <td>-0.432132</td>\n",
       "      <td>1.552769e+09</td>\n",
       "      <td>19.308</td>\n",
       "      <td>19.609719</td>\n",
       "      <td>20.186080</td>\n",
       "      <td>20.699712</td>\n",
       "      <td>21.358337</td>\n",
       "      <td>-1.818336</td>\n",
       "      <td>3834.289990</td>\n",
       "      <td>3859.080005</td>\n",
       "      <td>3881.326676</td>\n",
       "      <td>3885.758508</td>\n",
       "      <td>3859.914014</td>\n",
       "      <td>-91.444043</td>\n",
       "    </tr>\n",
       "    <tr>\n",
       "      <th>2021-03-05</th>\n",
       "      <td>34.035999</td>\n",
       "      <td>33.941</td>\n",
       "      <td>34.180666</td>\n",
       "      <td>34.3295</td>\n",
       "      <td>34.822132</td>\n",
       "      <td>-0.411911</td>\n",
       "      <td>1.051251e+09</td>\n",
       "      <td>19.542</td>\n",
       "      <td>19.624871</td>\n",
       "      <td>20.036258</td>\n",
       "      <td>20.597300</td>\n",
       "      <td>21.233990</td>\n",
       "      <td>-1.393989</td>\n",
       "      <td>3840.447998</td>\n",
       "      <td>3852.603003</td>\n",
       "      <td>3876.364014</td>\n",
       "      <td>3884.268506</td>\n",
       "      <td>3859.543009</td>\n",
       "      <td>-17.603068</td>\n",
       "    </tr>\n",
       "    <tr>\n",
       "      <th>2021-03-08</th>\n",
       "      <td>34.167999</td>\n",
       "      <td>33.950</td>\n",
       "      <td>34.156000</td>\n",
       "      <td>34.3010</td>\n",
       "      <td>34.761910</td>\n",
       "      <td>-0.230949</td>\n",
       "      <td>8.357526e+08</td>\n",
       "      <td>19.648</td>\n",
       "      <td>19.531371</td>\n",
       "      <td>19.866424</td>\n",
       "      <td>20.460966</td>\n",
       "      <td>21.105276</td>\n",
       "      <td>-1.605276</td>\n",
       "      <td>3824.354004</td>\n",
       "      <td>3847.088013</td>\n",
       "      <td>3868.798682</td>\n",
       "      <td>3880.994507</td>\n",
       "      <td>3858.872347</td>\n",
       "      <td>-37.522249</td>\n",
       "    </tr>\n",
       "    <tr>\n",
       "      <th>2021-03-09</th>\n",
       "      <td>34.356000</td>\n",
       "      <td>34.004</td>\n",
       "      <td>34.140000</td>\n",
       "      <td>34.2825</td>\n",
       "      <td>34.680950</td>\n",
       "      <td>0.315000</td>\n",
       "      <td>8.662590e+08</td>\n",
       "      <td>19.674</td>\n",
       "      <td>19.523699</td>\n",
       "      <td>19.759118</td>\n",
       "      <td>20.342662</td>\n",
       "      <td>20.993892</td>\n",
       "      <td>-1.003892</td>\n",
       "      <td>3825.383984</td>\n",
       "      <td>3846.494995</td>\n",
       "      <td>3864.988672</td>\n",
       "      <td>3878.987000</td>\n",
       "      <td>3859.541675</td>\n",
       "      <td>15.898267</td>\n",
       "    </tr>\n",
       "    <tr>\n",
       "      <th>2021-03-10</th>\n",
       "      <td>34.464000</td>\n",
       "      <td>34.122</td>\n",
       "      <td>34.142666</td>\n",
       "      <td>34.2805</td>\n",
       "      <td>34.615000</td>\n",
       "      <td>NaN</td>\n",
       "      <td>1.169886e+09</td>\n",
       "      <td>19.798</td>\n",
       "      <td>19.535000</td>\n",
       "      <td>19.718211</td>\n",
       "      <td>20.232352</td>\n",
       "      <td>20.892149</td>\n",
       "      <td>-0.772148</td>\n",
       "      <td>3841.202002</td>\n",
       "      <td>3843.833008</td>\n",
       "      <td>3862.820671</td>\n",
       "      <td>3878.366003</td>\n",
       "      <td>3861.181340</td>\n",
       "      <td>37.628719</td>\n",
       "    </tr>\n",
       "  </tbody>\n",
       "</table>\n",
       "</div>"
      ],
      "text/plain": [
       "              pfe_MA5  pfe_MA10   pfe_MA15  pfe_MA20   pfe_MA30  \\\n",
       "Date                                                              \n",
       "2021-03-04  33.856000    33.946  34.183333   34.3545  34.878712   \n",
       "2021-03-05  34.035999    33.941  34.180666   34.3295  34.822132   \n",
       "2021-03-08  34.167999    33.950  34.156000   34.3010  34.761910   \n",
       "2021-03-09  34.356000    34.004  34.140000   34.2825  34.680950   \n",
       "2021-03-10  34.464000    34.122  34.142666   34.2805  34.615000   \n",
       "\n",
       "            pfe_Adj Close-MA30  pfe_Volume by Adj Close  gold_MA5  gold_MA10  \\\n",
       "Date                                                                           \n",
       "2021-03-04           -0.432132             1.552769e+09    19.308  19.609719   \n",
       "2021-03-05           -0.411911             1.051251e+09    19.542  19.624871   \n",
       "2021-03-08           -0.230949             8.357526e+08    19.648  19.531371   \n",
       "2021-03-09            0.315000             8.662590e+08    19.674  19.523699   \n",
       "2021-03-10                 NaN             1.169886e+09    19.798  19.535000   \n",
       "\n",
       "            gold_MA15  gold_MA20  gold_MA30  gold_Adj Close-MA30    sp500_MA5  \\\n",
       "Date                                                                            \n",
       "2021-03-04  20.186080  20.699712  21.358337            -1.818336  3834.289990   \n",
       "2021-03-05  20.036258  20.597300  21.233990            -1.393989  3840.447998   \n",
       "2021-03-08  19.866424  20.460966  21.105276            -1.605276  3824.354004   \n",
       "2021-03-09  19.759118  20.342662  20.993892            -1.003892  3825.383984   \n",
       "2021-03-10  19.718211  20.232352  20.892149            -0.772148  3841.202002   \n",
       "\n",
       "             sp500_MA10   sp500_MA15   sp500_MA20   sp500_MA30  \\\n",
       "Date                                                             \n",
       "2021-03-04  3859.080005  3881.326676  3885.758508  3859.914014   \n",
       "2021-03-05  3852.603003  3876.364014  3884.268506  3859.543009   \n",
       "2021-03-08  3847.088013  3868.798682  3880.994507  3858.872347   \n",
       "2021-03-09  3846.494995  3864.988672  3878.987000  3859.541675   \n",
       "2021-03-10  3843.833008  3862.820671  3878.366003  3861.181340   \n",
       "\n",
       "            sp500_Adj Close-MA30  \n",
       "Date                              \n",
       "2021-03-04            -91.444043  \n",
       "2021-03-05            -17.603068  \n",
       "2021-03-08            -37.522249  \n",
       "2021-03-09             15.898267  \n",
       "2021-03-10             37.628719  "
      ]
     },
     "execution_count": 119,
     "metadata": {},
     "output_type": "execute_result"
    }
   ],
   "source": [
    "final_df.tail()"
   ]
  },
  {
   "cell_type": "code",
   "execution_count": 120,
   "metadata": {
    "slideshow": {
     "slide_type": "skip"
    }
   },
   "outputs": [],
   "source": [
    "final_df.reset_index(inplace=True)"
   ]
  },
  {
   "cell_type": "code",
   "execution_count": 121,
   "metadata": {
    "slideshow": {
     "slide_type": "skip"
    }
   },
   "outputs": [],
   "source": [
    "final_df['Weekday'] = final_df['Date'].dt.day_name()"
   ]
  },
  {
   "cell_type": "code",
   "execution_count": 122,
   "metadata": {
    "slideshow": {
     "slide_type": "skip"
    }
   },
   "outputs": [],
   "source": [
    "final_df =pd.get_dummies(final_df, columns=['Weekday'])"
   ]
  },
  {
   "cell_type": "code",
   "execution_count": 123,
   "metadata": {
    "slideshow": {
     "slide_type": "skip"
    }
   },
   "outputs": [],
   "source": [
    "final_df.drop(columns=['Date'], inplace=True)"
   ]
  },
  {
   "cell_type": "code",
   "execution_count": 124,
   "metadata": {
    "slideshow": {
     "slide_type": "skip"
    }
   },
   "outputs": [],
   "source": [
    "final_df.dropna( inplace=True)"
   ]
  },
  {
   "cell_type": "markdown",
   "metadata": {
    "slideshow": {
     "slide_type": "slide"
    }
   },
   "source": [
    "The final dataframe looks like this."
   ]
  },
  {
   "cell_type": "code",
   "execution_count": 125,
   "metadata": {
    "slideshow": {
     "slide_type": "fragment"
    }
   },
   "outputs": [
    {
     "data": {
      "text/html": [
       "<div>\n",
       "<style scoped>\n",
       "    .dataframe tbody tr th:only-of-type {\n",
       "        vertical-align: middle;\n",
       "    }\n",
       "\n",
       "    .dataframe tbody tr th {\n",
       "        vertical-align: top;\n",
       "    }\n",
       "\n",
       "    .dataframe thead th {\n",
       "        text-align: right;\n",
       "    }\n",
       "</style>\n",
       "<table border=\"1\" class=\"dataframe\">\n",
       "  <thead>\n",
       "    <tr style=\"text-align: right;\">\n",
       "      <th></th>\n",
       "      <th>pfe_MA5</th>\n",
       "      <th>pfe_MA10</th>\n",
       "      <th>pfe_MA15</th>\n",
       "      <th>pfe_MA20</th>\n",
       "      <th>pfe_MA30</th>\n",
       "      <th>pfe_Adj Close-MA30</th>\n",
       "      <th>pfe_Volume by Adj Close</th>\n",
       "      <th>gold_MA5</th>\n",
       "      <th>gold_MA10</th>\n",
       "      <th>gold_MA15</th>\n",
       "      <th>...</th>\n",
       "      <th>sp500_MA10</th>\n",
       "      <th>sp500_MA15</th>\n",
       "      <th>sp500_MA20</th>\n",
       "      <th>sp500_MA30</th>\n",
       "      <th>sp500_Adj Close-MA30</th>\n",
       "      <th>Weekday_Friday</th>\n",
       "      <th>Weekday_Monday</th>\n",
       "      <th>Weekday_Thursday</th>\n",
       "      <th>Weekday_Tuesday</th>\n",
       "      <th>Weekday_Wednesday</th>\n",
       "    </tr>\n",
       "  </thead>\n",
       "  <tbody>\n",
       "    <tr>\n",
       "      <th>0</th>\n",
       "      <td>29.207316</td>\n",
       "      <td>29.861376</td>\n",
       "      <td>30.540064</td>\n",
       "      <td>30.664088</td>\n",
       "      <td>30.679264</td>\n",
       "      <td>-0.839479</td>\n",
       "      <td>6.382091e+08</td>\n",
       "      <td>12.699879</td>\n",
       "      <td>13.035803</td>\n",
       "      <td>13.378127</td>\n",
       "      <td>...</td>\n",
       "      <td>2695.314966</td>\n",
       "      <td>2745.251318</td>\n",
       "      <td>2763.087988</td>\n",
       "      <td>2757.173991</td>\n",
       "      <td>-94.234049</td>\n",
       "      <td>0</td>\n",
       "      <td>0</td>\n",
       "      <td>0</td>\n",
       "      <td>1</td>\n",
       "      <td>0</td>\n",
       "    </tr>\n",
       "    <tr>\n",
       "      <th>1</th>\n",
       "      <td>29.242900</td>\n",
       "      <td>29.733444</td>\n",
       "      <td>30.460932</td>\n",
       "      <td>30.594246</td>\n",
       "      <td>30.653409</td>\n",
       "      <td>-0.380200</td>\n",
       "      <td>7.302847e+08</td>\n",
       "      <td>12.749788</td>\n",
       "      <td>12.965739</td>\n",
       "      <td>13.288547</td>\n",
       "      <td>...</td>\n",
       "      <td>2682.796948</td>\n",
       "      <td>2735.990641</td>\n",
       "      <td>2757.891479</td>\n",
       "      <td>2757.267985</td>\n",
       "      <td>-58.638102</td>\n",
       "      <td>0</td>\n",
       "      <td>0</td>\n",
       "      <td>0</td>\n",
       "      <td>0</td>\n",
       "      <td>1</td>\n",
       "    </tr>\n",
       "    <tr>\n",
       "      <th>2</th>\n",
       "      <td>29.595346</td>\n",
       "      <td>29.638554</td>\n",
       "      <td>30.394381</td>\n",
       "      <td>30.554408</td>\n",
       "      <td>30.634685</td>\n",
       "      <td>0.091209</td>\n",
       "      <td>6.833998e+08</td>\n",
       "      <td>12.770902</td>\n",
       "      <td>12.862082</td>\n",
       "      <td>13.195128</td>\n",
       "      <td>...</td>\n",
       "      <td>2673.718945</td>\n",
       "      <td>2728.787305</td>\n",
       "      <td>2754.549976</td>\n",
       "      <td>2757.872648</td>\n",
       "      <td>-26.672697</td>\n",
       "      <td>0</td>\n",
       "      <td>0</td>\n",
       "      <td>1</td>\n",
       "      <td>0</td>\n",
       "      <td>0</td>\n",
       "    </tr>\n",
       "    <tr>\n",
       "      <th>3</th>\n",
       "      <td>29.951181</td>\n",
       "      <td>29.608902</td>\n",
       "      <td>30.259281</td>\n",
       "      <td>30.539965</td>\n",
       "      <td>30.629254</td>\n",
       "      <td>-0.106145</td>\n",
       "      <td>8.497156e+08</td>\n",
       "      <td>12.793937</td>\n",
       "      <td>12.808334</td>\n",
       "      <td>13.094670</td>\n",
       "      <td>...</td>\n",
       "      <td>2670.727954</td>\n",
       "      <td>2719.410628</td>\n",
       "      <td>2750.645972</td>\n",
       "      <td>2758.146981</td>\n",
       "      <td>-25.927010</td>\n",
       "      <td>1</td>\n",
       "      <td>0</td>\n",
       "      <td>0</td>\n",
       "      <td>0</td>\n",
       "      <td>0</td>\n",
       "    </tr>\n",
       "    <tr>\n",
       "      <th>4</th>\n",
       "      <td>30.179933</td>\n",
       "      <td>29.722430</td>\n",
       "      <td>30.109501</td>\n",
       "      <td>30.515353</td>\n",
       "      <td>30.614804</td>\n",
       "      <td>-0.307917</td>\n",
       "      <td>8.299078e+08</td>\n",
       "      <td>12.715235</td>\n",
       "      <td>12.733471</td>\n",
       "      <td>12.998691</td>\n",
       "      <td>...</td>\n",
       "      <td>2677.459961</td>\n",
       "      <td>2710.259294</td>\n",
       "      <td>2744.810474</td>\n",
       "      <td>2757.250651</td>\n",
       "      <td>-40.990641</td>\n",
       "      <td>0</td>\n",
       "      <td>0</td>\n",
       "      <td>0</td>\n",
       "      <td>1</td>\n",
       "      <td>0</td>\n",
       "    </tr>\n",
       "    <tr>\n",
       "      <th>...</th>\n",
       "      <td>...</td>\n",
       "      <td>...</td>\n",
       "      <td>...</td>\n",
       "      <td>...</td>\n",
       "      <td>...</td>\n",
       "      <td>...</td>\n",
       "      <td>...</td>\n",
       "      <td>...</td>\n",
       "      <td>...</td>\n",
       "      <td>...</td>\n",
       "      <td>...</td>\n",
       "      <td>...</td>\n",
       "      <td>...</td>\n",
       "      <td>...</td>\n",
       "      <td>...</td>\n",
       "      <td>...</td>\n",
       "      <td>...</td>\n",
       "      <td>...</td>\n",
       "      <td>...</td>\n",
       "      <td>...</td>\n",
       "      <td>...</td>\n",
       "    </tr>\n",
       "    <tr>\n",
       "      <th>767</th>\n",
       "      <td>33.780000</td>\n",
       "      <td>33.982000</td>\n",
       "      <td>34.219333</td>\n",
       "      <td>34.386500</td>\n",
       "      <td>34.942286</td>\n",
       "      <td>-0.678712</td>\n",
       "      <td>1.580093e+09</td>\n",
       "      <td>19.272000</td>\n",
       "      <td>19.678316</td>\n",
       "      <td>20.377136</td>\n",
       "      <td>...</td>\n",
       "      <td>3873.630005</td>\n",
       "      <td>3890.754004</td>\n",
       "      <td>3888.843506</td>\n",
       "      <td>3862.693351</td>\n",
       "      <td>-42.973381</td>\n",
       "      <td>0</td>\n",
       "      <td>0</td>\n",
       "      <td>0</td>\n",
       "      <td>0</td>\n",
       "      <td>1</td>\n",
       "    </tr>\n",
       "    <tr>\n",
       "      <th>768</th>\n",
       "      <td>33.856000</td>\n",
       "      <td>33.946000</td>\n",
       "      <td>34.183333</td>\n",
       "      <td>34.354500</td>\n",
       "      <td>34.878712</td>\n",
       "      <td>-0.432132</td>\n",
       "      <td>1.552769e+09</td>\n",
       "      <td>19.308000</td>\n",
       "      <td>19.609719</td>\n",
       "      <td>20.186080</td>\n",
       "      <td>...</td>\n",
       "      <td>3859.080005</td>\n",
       "      <td>3881.326676</td>\n",
       "      <td>3885.758508</td>\n",
       "      <td>3859.914014</td>\n",
       "      <td>-91.444043</td>\n",
       "      <td>0</td>\n",
       "      <td>0</td>\n",
       "      <td>1</td>\n",
       "      <td>0</td>\n",
       "      <td>0</td>\n",
       "    </tr>\n",
       "    <tr>\n",
       "      <th>769</th>\n",
       "      <td>34.035999</td>\n",
       "      <td>33.941000</td>\n",
       "      <td>34.180666</td>\n",
       "      <td>34.329500</td>\n",
       "      <td>34.822132</td>\n",
       "      <td>-0.411911</td>\n",
       "      <td>1.051251e+09</td>\n",
       "      <td>19.542000</td>\n",
       "      <td>19.624871</td>\n",
       "      <td>20.036258</td>\n",
       "      <td>...</td>\n",
       "      <td>3852.603003</td>\n",
       "      <td>3876.364014</td>\n",
       "      <td>3884.268506</td>\n",
       "      <td>3859.543009</td>\n",
       "      <td>-17.603068</td>\n",
       "      <td>1</td>\n",
       "      <td>0</td>\n",
       "      <td>0</td>\n",
       "      <td>0</td>\n",
       "      <td>0</td>\n",
       "    </tr>\n",
       "    <tr>\n",
       "      <th>770</th>\n",
       "      <td>34.167999</td>\n",
       "      <td>33.950000</td>\n",
       "      <td>34.156000</td>\n",
       "      <td>34.301000</td>\n",
       "      <td>34.761910</td>\n",
       "      <td>-0.230949</td>\n",
       "      <td>8.357526e+08</td>\n",
       "      <td>19.648000</td>\n",
       "      <td>19.531371</td>\n",
       "      <td>19.866424</td>\n",
       "      <td>...</td>\n",
       "      <td>3847.088013</td>\n",
       "      <td>3868.798682</td>\n",
       "      <td>3880.994507</td>\n",
       "      <td>3858.872347</td>\n",
       "      <td>-37.522249</td>\n",
       "      <td>0</td>\n",
       "      <td>1</td>\n",
       "      <td>0</td>\n",
       "      <td>0</td>\n",
       "      <td>0</td>\n",
       "    </tr>\n",
       "    <tr>\n",
       "      <th>771</th>\n",
       "      <td>34.356000</td>\n",
       "      <td>34.004000</td>\n",
       "      <td>34.140000</td>\n",
       "      <td>34.282500</td>\n",
       "      <td>34.680950</td>\n",
       "      <td>0.315000</td>\n",
       "      <td>8.662590e+08</td>\n",
       "      <td>19.674000</td>\n",
       "      <td>19.523699</td>\n",
       "      <td>19.759118</td>\n",
       "      <td>...</td>\n",
       "      <td>3846.494995</td>\n",
       "      <td>3864.988672</td>\n",
       "      <td>3878.987000</td>\n",
       "      <td>3859.541675</td>\n",
       "      <td>15.898267</td>\n",
       "      <td>0</td>\n",
       "      <td>0</td>\n",
       "      <td>0</td>\n",
       "      <td>1</td>\n",
       "      <td>0</td>\n",
       "    </tr>\n",
       "  </tbody>\n",
       "</table>\n",
       "<p>772 rows × 24 columns</p>\n",
       "</div>"
      ],
      "text/plain": [
       "       pfe_MA5   pfe_MA10   pfe_MA15   pfe_MA20   pfe_MA30  \\\n",
       "0    29.207316  29.861376  30.540064  30.664088  30.679264   \n",
       "1    29.242900  29.733444  30.460932  30.594246  30.653409   \n",
       "2    29.595346  29.638554  30.394381  30.554408  30.634685   \n",
       "3    29.951181  29.608902  30.259281  30.539965  30.629254   \n",
       "4    30.179933  29.722430  30.109501  30.515353  30.614804   \n",
       "..         ...        ...        ...        ...        ...   \n",
       "767  33.780000  33.982000  34.219333  34.386500  34.942286   \n",
       "768  33.856000  33.946000  34.183333  34.354500  34.878712   \n",
       "769  34.035999  33.941000  34.180666  34.329500  34.822132   \n",
       "770  34.167999  33.950000  34.156000  34.301000  34.761910   \n",
       "771  34.356000  34.004000  34.140000  34.282500  34.680950   \n",
       "\n",
       "     pfe_Adj Close-MA30  pfe_Volume by Adj Close   gold_MA5  gold_MA10  \\\n",
       "0             -0.839479             6.382091e+08  12.699879  13.035803   \n",
       "1             -0.380200             7.302847e+08  12.749788  12.965739   \n",
       "2              0.091209             6.833998e+08  12.770902  12.862082   \n",
       "3             -0.106145             8.497156e+08  12.793937  12.808334   \n",
       "4             -0.307917             8.299078e+08  12.715235  12.733471   \n",
       "..                  ...                      ...        ...        ...   \n",
       "767           -0.678712             1.580093e+09  19.272000  19.678316   \n",
       "768           -0.432132             1.552769e+09  19.308000  19.609719   \n",
       "769           -0.411911             1.051251e+09  19.542000  19.624871   \n",
       "770           -0.230949             8.357526e+08  19.648000  19.531371   \n",
       "771            0.315000             8.662590e+08  19.674000  19.523699   \n",
       "\n",
       "     gold_MA15  ...   sp500_MA10   sp500_MA15   sp500_MA20   sp500_MA30  \\\n",
       "0    13.378127  ...  2695.314966  2745.251318  2763.087988  2757.173991   \n",
       "1    13.288547  ...  2682.796948  2735.990641  2757.891479  2757.267985   \n",
       "2    13.195128  ...  2673.718945  2728.787305  2754.549976  2757.872648   \n",
       "3    13.094670  ...  2670.727954  2719.410628  2750.645972  2758.146981   \n",
       "4    12.998691  ...  2677.459961  2710.259294  2744.810474  2757.250651   \n",
       "..         ...  ...          ...          ...          ...          ...   \n",
       "767  20.377136  ...  3873.630005  3890.754004  3888.843506  3862.693351   \n",
       "768  20.186080  ...  3859.080005  3881.326676  3885.758508  3859.914014   \n",
       "769  20.036258  ...  3852.603003  3876.364014  3884.268506  3859.543009   \n",
       "770  19.866424  ...  3847.088013  3868.798682  3880.994507  3858.872347   \n",
       "771  19.759118  ...  3846.494995  3864.988672  3878.987000  3859.541675   \n",
       "\n",
       "     sp500_Adj Close-MA30  Weekday_Friday  Weekday_Monday  Weekday_Thursday  \\\n",
       "0              -94.234049               0               0                 0   \n",
       "1              -58.638102               0               0                 0   \n",
       "2              -26.672697               0               0                 1   \n",
       "3              -25.927010               1               0                 0   \n",
       "4              -40.990641               0               0                 0   \n",
       "..                    ...             ...             ...               ...   \n",
       "767            -42.973381               0               0                 0   \n",
       "768            -91.444043               0               0                 1   \n",
       "769            -17.603068               1               0                 0   \n",
       "770            -37.522249               0               1                 0   \n",
       "771             15.898267               0               0                 0   \n",
       "\n",
       "     Weekday_Tuesday  Weekday_Wednesday  \n",
       "0                  1                  0  \n",
       "1                  0                  1  \n",
       "2                  0                  0  \n",
       "3                  0                  0  \n",
       "4                  1                  0  \n",
       "..               ...                ...  \n",
       "767                0                  1  \n",
       "768                0                  0  \n",
       "769                0                  0  \n",
       "770                0                  0  \n",
       "771                1                  0  \n",
       "\n",
       "[772 rows x 24 columns]"
      ]
     },
     "execution_count": 125,
     "metadata": {},
     "output_type": "execute_result"
    }
   ],
   "source": [
    "final_df"
   ]
  },
  {
   "cell_type": "code",
   "execution_count": 126,
   "metadata": {
    "slideshow": {
     "slide_type": "slide"
    }
   },
   "outputs": [],
   "source": [
    "X = final_df.drop(columns='pfe_Adj Close-MA30')\n",
    "y = final_df['pfe_Adj Close-MA30']"
   ]
  },
  {
   "cell_type": "markdown",
   "metadata": {
    "slideshow": {
     "slide_type": "fragment"
    }
   },
   "source": [
    "Scaling data."
   ]
  },
  {
   "cell_type": "code",
   "execution_count": 127,
   "metadata": {
    "slideshow": {
     "slide_type": "fragment"
    }
   },
   "outputs": [],
   "source": [
    "from sklearn.preprocessing import StandardScaler\n",
    "scaling = StandardScaler()\n",
    "X=scaling.fit_transform(X)"
   ]
  },
  {
   "cell_type": "code",
   "execution_count": 128,
   "metadata": {
    "slideshow": {
     "slide_type": "skip"
    }
   },
   "outputs": [],
   "source": [
    "from sklearn.model_selection import train_test_split"
   ]
  },
  {
   "cell_type": "code",
   "execution_count": 129,
   "metadata": {
    "slideshow": {
     "slide_type": "skip"
    }
   },
   "outputs": [],
   "source": [
    "X_train, X_test, y_train, y_test = train_test_split(X, y, test_size=0.2, random_state=42)"
   ]
  },
  {
   "cell_type": "code",
   "execution_count": 130,
   "metadata": {
    "slideshow": {
     "slide_type": "slide"
    }
   },
   "outputs": [],
   "source": [
    "from sklearn.svm import SVR\n",
    "from sklearn.model_selection import GridSearchCV\n",
    "regr= SVR()\n",
    "params ={'kernel':['linear', 'rbf'],\n",
    "         'C':[0.2, 0.5, 1, 10, 100],\n",
    "         'epsilon':[1, 0.1, 0.01, 0.001, 0.0001]\n",
    "        }\n",
    "gridSr = GridSearchCV(regr, params, n_jobs=5, verbose=4, scoring='r2')"
   ]
  },
  {
   "cell_type": "code",
   "execution_count": 131,
   "metadata": {
    "slideshow": {
     "slide_type": "skip"
    }
   },
   "outputs": [
    {
     "name": "stdout",
     "output_type": "stream",
     "text": [
      "Fitting 5 folds for each of 40 candidates, totalling 200 fits\n"
     ]
    },
    {
     "name": "stderr",
     "output_type": "stream",
     "text": [
      "[Parallel(n_jobs=5)]: Using backend LokyBackend with 5 concurrent workers.\n",
      "[Parallel(n_jobs=5)]: Done  15 tasks      | elapsed:    2.5s\n",
      "[Parallel(n_jobs=5)]: Done 200 out of 200 | elapsed:   23.3s finished\n"
     ]
    },
    {
     "data": {
      "text/plain": [
       "GridSearchCV(estimator=SVR(), n_jobs=5,\n",
       "             param_grid={'C': [0.2, 0.5, 1, 10, 100],\n",
       "                         'epsilon': [0.1, 0.01, 0.001, 0.0001],\n",
       "                         'kernel': ['linear', 'rbf']},\n",
       "             scoring='r2', verbose=4)"
      ]
     },
     "execution_count": 131,
     "metadata": {},
     "output_type": "execute_result"
    }
   ],
   "source": [
    "gridSr.fit(X_train, y_train)"
   ]
  },
  {
   "cell_type": "code",
   "execution_count": 132,
   "metadata": {
    "slideshow": {
     "slide_type": "slide"
    }
   },
   "outputs": [],
   "source": [
    "y_predict = gridSr.predict(X_test)"
   ]
  },
  {
   "cell_type": "code",
   "execution_count": 133,
   "metadata": {
    "slideshow": {
     "slide_type": "fragment"
    }
   },
   "outputs": [],
   "source": [
    "from sklearn.metrics import r2_score"
   ]
  },
  {
   "cell_type": "code",
   "execution_count": 134,
   "metadata": {
    "slideshow": {
     "slide_type": "fragment"
    }
   },
   "outputs": [
    {
     "data": {
      "text/plain": [
       "0.8085984852899742"
      ]
     },
     "execution_count": 134,
     "metadata": {},
     "output_type": "execute_result"
    }
   ],
   "source": [
    "r2_score (y_test, y_predict)"
   ]
  },
  {
   "cell_type": "code",
   "execution_count": 135,
   "metadata": {
    "slideshow": {
     "slide_type": "fragment"
    }
   },
   "outputs": [
    {
     "data": {
      "text/plain": [
       "0.8375908855817281"
      ]
     },
     "execution_count": 135,
     "metadata": {},
     "output_type": "execute_result"
    }
   ],
   "source": [
    "gridSr.best_score_"
   ]
  },
  {
   "cell_type": "code",
   "execution_count": 136,
   "metadata": {
    "slideshow": {
     "slide_type": "fragment"
    }
   },
   "outputs": [
    {
     "data": {
      "text/plain": [
       "{'C': 100, 'epsilon': 0.1, 'kernel': 'linear'}"
      ]
     },
     "execution_count": 136,
     "metadata": {},
     "output_type": "execute_result"
    }
   ],
   "source": [
    "gridSr.best_params_"
   ]
  },
  {
   "cell_type": "markdown",
   "metadata": {
    "slideshow": {
     "slide_type": "slide"
    }
   },
   "source": [
    "### Summary\n",
    "With this simple model we managed to achieve 0.8 r2-score result which is not bad. Further steps would be to deploy the model and create web API to work with it. Also one can try to play with this model and try different parameters like shifting target variable by 5 and try to predict stock price in 5 days. Or one can try neural network instead of SVR.\n",
    "Please refer to my GitHub profile for the complete code for this article.\n",
    "https://github.com/Ruslion"
   ]
  }
 ],
 "metadata": {
  "celltoolbar": "Slideshow",
  "kernelspec": {
   "display_name": "Python 3",
   "language": "python",
   "name": "python3"
  },
  "language_info": {
   "codemirror_mode": {
    "name": "ipython",
    "version": 3
   },
   "file_extension": ".py",
   "mimetype": "text/x-python",
   "name": "python",
   "nbconvert_exporter": "python",
   "pygments_lexer": "ipython3",
   "version": "3.8.5"
  },
  "toc": {
   "base_numbering": 1,
   "nav_menu": {},
   "number_sections": true,
   "sideBar": true,
   "skip_h1_title": false,
   "title_cell": "Table of Contents",
   "title_sidebar": "Contents",
   "toc_cell": false,
   "toc_position": {},
   "toc_section_display": true,
   "toc_window_display": false
  },
  "varInspector": {
   "cols": {
    "lenName": 16,
    "lenType": 16,
    "lenVar": 40
   },
   "kernels_config": {
    "python": {
     "delete_cmd_postfix": "",
     "delete_cmd_prefix": "del ",
     "library": "var_list.py",
     "varRefreshCmd": "print(var_dic_list())"
    },
    "r": {
     "delete_cmd_postfix": ") ",
     "delete_cmd_prefix": "rm(",
     "library": "var_list.r",
     "varRefreshCmd": "cat(var_dic_list()) "
    }
   },
   "types_to_exclude": [
    "module",
    "function",
    "builtin_function_or_method",
    "instance",
    "_Feature"
   ],
   "window_display": false
  }
 },
 "nbformat": 4,
 "nbformat_minor": 4
}
